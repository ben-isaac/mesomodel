{
 "cells": [
  {
   "cell_type": "markdown",
   "metadata": {},
   "source": [
    "# WRF plotting example\n",
    "\n",
    "Adapted from an iPython notebook created by Dan Rothenberg, MIT PAOC\n",
    "\n",
    "This is a simple example for plotting WRF output using several standard Python libraries:\n",
    "\n",
    "1. [xarray](http://xarray.pydata.org/en/stable/) - netCDF reading and data manipulation (formerly `xray`; you may want to do `conda remove xray` to remove the old outdated version)\n",
    "2. [matplotlib](http://matplotlib.org/) - Python basic plotting library\n",
    "\n",
    "If you're already using Anaconda, then the easiest way to install these will be to simply go to your command line and execute:\n",
    "\n",
    "```bash\n",
    "pip install xarray\n",
    "```\n",
    "\n",
    "Another library to consider would be [iris](http://scitools.org.uk/iris/docs/latest/index.html) for reading in/handling netCDF data.\n",
    "\n",
    "We will also use `ipywidgets`\n",
    "\n",
    "```bash\n",
    "conda install ipywidgets\n",
    "```\n",
    "\n",
    "Any time you update your python packages, you need to restart the python kernel in the *Kernel* menu above."
   ]
  },
  {
   "cell_type": "markdown",
   "metadata": {},
   "source": [
    "### Reading in data\n",
    "\n",
    "Using `xarray`, it's trivial to read in a netCDF dataset. Let's take the first WRF run you did.  Make sure the path is pointing to your run."
   ]
  },
  {
   "cell_type": "code",
   "execution_count": 1,
   "metadata": {
    "collapsed": false
   },
   "outputs": [
    {
     "name": "stdout",
     "output_type": "stream",
     "text": [
      "Populating the interactive namespace from numpy and matplotlib\n"
     ]
    }
   ],
   "source": [
    "%pylab inline\n",
    "import xarray as xr\n",
    "\n",
    "dataset = xr.open_dataset(\"/oasis/scratch/snesbitt/temp_project/WRFV3/test/em_squall2d_x/wrfout_d01_0001-01-01_00:00:00\")"
   ]
  },
  {
   "cell_type": "markdown",
   "metadata": {},
   "source": [
    "Normally, you'd use `ncdump -h squall_slice.nc` from the command line to inspect this file, but we can do something equivalent using xray."
   ]
  },
  {
   "cell_type": "code",
   "execution_count": 2,
   "metadata": {
    "collapsed": false,
    "scrolled": false
   },
   "outputs": [
    {
     "name": "stdout",
     "output_type": "stream",
     "text": [
      "<xarray.Dataset>\n",
      "Dimensions:                (Time: 25, bottom_top: 80, bottom_top_stag: 81, soil_layers_stag: 5, south_north: 2, south_north_stag: 3, west_east: 201, west_east_stag: 202)\n",
      "Coordinates:\n",
      "    XLONG_V                (Time, south_north_stag, west_east) float32 0.0 ...\n",
      "    XLONG_U                (Time, south_north, west_east_stag) float32 0.0 ...\n",
      "    XLAT                   (Time, south_north, west_east) float32 0.0 0.0 ...\n",
      "    XLAT_V                 (Time, south_north_stag, west_east) float32 0.0 ...\n",
      "    XLAT_U                 (Time, south_north, west_east_stag) float32 0.0 ...\n",
      "    XTIME                  (Time) datetime64[ns] 2001-01-01 ...\n",
      "    XLONG                  (Time, south_north, west_east) float32 0.0 0.0 ...\n",
      "  * Time                   (Time) int64 0 1 2 3 4 5 6 7 8 9 10 11 12 13 14 ...\n",
      "  * bottom_top             (bottom_top) int64 0 1 2 3 4 5 6 7 8 9 10 11 12 ...\n",
      "  * bottom_top_stag        (bottom_top_stag) int64 0 1 2 3 4 5 6 7 8 9 10 11 ...\n",
      "  * soil_layers_stag       (soil_layers_stag) int64 0 1 2 3 4\n",
      "  * south_north            (south_north) int64 0 1\n",
      "  * south_north_stag       (south_north_stag) int64 0 1 2\n",
      "  * west_east              (west_east) int64 0 1 2 3 4 5 6 7 8 9 10 11 12 13 ...\n",
      "  * west_east_stag         (west_east_stag) int64 0 1 2 3 4 5 6 7 8 9 10 11 ...\n",
      "Data variables:\n",
      "    MAX_MSTFX              (Time) float32 0.0 0.0 0.0 0.0 0.0 0.0 0.0 0.0 ...\n",
      "    MAX_MSTFY              (Time) float32 0.0 0.0 0.0 0.0 0.0 0.0 0.0 0.0 ...\n",
      "    P_HYD                  (Time, bottom_top, south_north, west_east) float32 98384.2 ...\n",
      "    FNP                    (Time, bottom_top) float32 0.0 0.492188 0.492189 ...\n",
      "    QVAPOR                 (Time, bottom_top, south_north, west_east) float32 0.014 ...\n",
      "    QCLOUD                 (Time, bottom_top, south_north, west_east) float32 0.0 ...\n",
      "    DZS                    (Time, soil_layers_stag) float32 0.0 0.0 0.0 0.0 ...\n",
      "    ZNW                    (Time, bottom_top_stag) float32 1.0 0.966482 ...\n",
      "    ZNU                    (Time, bottom_top) float32 0.983241 0.950239 ...\n",
      "    LU_INDEX               (Time, south_north, west_east) float32 0.0 0.0 ...\n",
      "    FNM                    (Time, bottom_top) float32 0.0 0.507812 0.507811 ...\n",
      "    QSNOW                  (Time, bottom_top, south_north, west_east) float32 0.0 ...\n",
      "    CFN1                   (Time) float32 -0.492188 -0.492188 -0.492188 ...\n",
      "    ALBBCK                 (Time, south_north, west_east) float32 0.2 0.2 ...\n",
      "    TH2                    (Time, south_north, west_east) float32 0.0 0.0 ...\n",
      "    ISLTYP                 (Time, south_north, west_east) int32 0 0 0 0 0 0 ...\n",
      "    LH_FORCE               (Time) float32 0.0 0.0 0.0 0.0 0.0 0.0 0.0 0.0 ...\n",
      "    SFROFF                 (Time, south_north, west_east) float32 0.0 0.0 ...\n",
      "    LH_FORCE_TEND          (Time) float32 0.0 0.0 0.0 0.0 0.0 0.0 0.0 0.0 ...\n",
      "    TSK_FORCE              (Time) float32 0.0 0.0 0.0 0.0 0.0 0.0 0.0 0.0 ...\n",
      "    P                      (Time, bottom_top, south_north, west_east) float32 -14.4531 ...\n",
      "    T                      (Time, bottom_top, south_north, west_east) float32 0.505005 ...\n",
      "    SNOALB                 (Time, south_north, west_east) float32 0.0 0.0 ...\n",
      "    VAR                    (Time, south_north, west_east) float32 0.0 0.0 ...\n",
      "    RDNW                   (Time, bottom_top) float32 -29.8346 -30.7817 ...\n",
      "    UDROFF                 (Time, south_north, west_east) float32 0.0 0.0 ...\n",
      "    LAI                    (Time, south_north, west_east) float32 0.0 0.0 ...\n",
      "    SH2O                   (Time, soil_layers_stag, south_north, west_east) float32 0.0 ...\n",
      "    PHB                    (Time, bottom_top_stag, south_north, west_east) float32 0.0 ...\n",
      "    ISEEDARR_RAND_PERTURB  (Time, bottom_top) int32 0 0 0 0 0 0 0 0 0 0 0 0 ...\n",
      "    P_STRAT                (Time) float32 0.0 0.0 0.0 0.0 0.0 0.0 0.0 0.0 ...\n",
      "    CLDFRA                 (Time, bottom_top, south_north, west_east) float32 0.0 ...\n",
      "    P00                    (Time) float32 0.0 0.0 0.0 0.0 0.0 0.0 0.0 0.0 ...\n",
      "    XLAND                  (Time, south_north, west_east) float32 1.0 1.0 ...\n",
      "    NOAHRES                (Time, south_north, west_east) float32 0.0 0.0 ...\n",
      "    VEGFRA                 (Time, south_north, west_east) float32 0.0 0.0 ...\n",
      "    TSK                    (Time, south_north, west_east) float32 300.612 ...\n",
      "    XICEM                  (Time, south_north, west_east) float32 0.0 0.0 ...\n",
      "    P_TOP                  (Time) float32 5714.08 5714.08 5714.08 5714.08 ...\n",
      "    SNOWNC                 (Time, south_north, west_east) float32 0.0 0.0 ...\n",
      "    COSZEN                 (Time, south_north, west_east) float32 0.0 0.0 ...\n",
      "    HFX_FORCE_TEND         (Time) float32 0.0 0.0 0.0 0.0 0.0 0.0 0.0 0.0 ...\n",
      "    MAPFAC_UX              (Time, south_north, west_east_stag) float32 1.0 ...\n",
      "    QGRAUP                 (Time, bottom_top, south_north, west_east) float32 0.0 ...\n",
      "    PB                     (Time, bottom_top, south_north, west_east) float32 98398.6 ...\n",
      "    PH                     (Time, bottom_top_stag, south_north, west_east) float32 0.0 ...\n",
      "    QNRAIN                 (Time, bottom_top, south_north, west_east) float32 0.0 ...\n",
      "    PSFC                   (Time, south_north, west_east) float32 0.0 0.0 ...\n",
      "    Times                  (Time) |S19 '0001-01-01_00:00:00' ...\n",
      "    W                      (Time, bottom_top_stag, south_north, west_east) float32 0.0 ...\n",
      "    SINALPHA               (Time, south_north, west_east) float32 0.0 0.0 ...\n",
      "    ZS                     (Time, soil_layers_stag) float32 0.0 0.0 0.0 0.0 ...\n",
      "    SWDOWN                 (Time, south_north, west_east) float32 0.0 0.0 ...\n",
      "    SST                    (Time, south_north, west_east) float32 0.0 0.0 ...\n",
      "    THIS_IS_AN_IDEAL_RUN   (Time) int32 1 1 1 1 1 1 1 1 1 1 1 1 1 1 1 1 1 1 ...\n",
      "    LAKEMASK               (Time, south_north, west_east) float32 0.0 0.0 ...\n",
      "    MU                     (Time, south_north, west_east) float32 -446.531 ...\n",
      "    RAINNC                 (Time, south_north, west_east) float32 0.0 0.0 ...\n",
      "    ACGRDFLX               (Time, south_north, west_east) float32 0.0 0.0 ...\n",
      "    ZETATOP                (Time) float32 0.0 0.0 0.0 0.0 0.0 0.0 0.0 0.0 ...\n",
      "    LANDMASK               (Time, south_north, west_east) float32 0.0 0.0 ...\n",
      "    NEST_POS               (Time, south_north, west_east) float32 0.0 0.0 ...\n",
      "    SEAICE                 (Time, south_north, west_east) float32 0.0 0.0 ...\n",
      "    HFX                    (Time, south_north, west_east) float32 0.0 0.0 ...\n",
      "    MF_VX_INV              (Time, south_north_stag, west_east) float32 1.0 ...\n",
      "    QRAIN                  (Time, bottom_top, south_north, west_east) float32 0.0 ...\n",
      "    SHDMAX                 (Time, south_north, west_east) float32 0.0 0.0 ...\n",
      "    MUB                    (Time, south_north, west_east) float32 94264.3 ...\n",
      "    U10                    (Time, south_north, west_east) float32 0.0 0.0 ...\n",
      "    TMN                    (Time, south_north, west_east) float32 300.112 ...\n",
      "    GLW                    (Time, south_north, west_east) float32 0.0 0.0 ...\n",
      "    GRAUPELNC              (Time, south_north, west_east) float32 0.0 0.0 ...\n",
      "    QNICE                  (Time, bottom_top, south_north, west_east) float32 0.0 ...\n",
      "    OLR                    (Time, south_north, west_east) float32 0.0 0.0 ...\n",
      "    LAP_HGT                (Time, south_north, west_east) float32 0.0 0.0 ...\n",
      "    HAILNC                 (Time, south_north, west_east) float32 0.0 0.0 ...\n",
      "    CLAT                   (Time, south_north, west_east) float32 0.0 0.0 ...\n",
      "    ACSNOM                 (Time, south_north, west_east) float32 0.0 0.0 ...\n",
      "    MAPFAC_MY              (Time, south_north, west_east) float32 1.0 1.0 ...\n",
      "    MAPFAC_MX              (Time, south_north, west_east) float32 1.0 1.0 ...\n",
      "    TLP                    (Time) float32 0.0 0.0 0.0 0.0 0.0 0.0 0.0 0.0 ...\n",
      "    QFX                    (Time, south_north, west_east) float32 0.0 0.0 ...\n",
      "    SMOIS                  (Time, soil_layers_stag, south_north, west_east) float32 0.0 ...\n",
      "    F                      (Time, south_north, west_east) float32 0.0 0.0 ...\n",
      "    RDY                    (Time) float32 0.004 0.004 0.004 0.004 0.004 ...\n",
      "    RDX                    (Time) float32 0.004 0.004 0.004 0.004 0.004 ...\n",
      "    ISEEDARR_SKEBS         (Time, bottom_top) int32 0 0 0 0 0 0 0 0 0 0 0 0 ...\n",
      "    DNW                    (Time, bottom_top) float32 -0.0335181 -0.0324868 ...\n",
      "    ISEEDARR_SPPT          (Time, bottom_top) int32 0 0 0 0 0 0 0 0 0 0 0 0 ...\n",
      "    V                      (Time, bottom_top, south_north_stag, west_east) float32 0.0 ...\n",
      "    RDN                    (Time, bottom_top) float32 0.0 -30.3008 -31.2626 ...\n",
      "    CANWAT                 (Time, south_north, west_east) float32 0.0 0.0 ...\n",
      "    SR                     (Time, south_north, west_east) float32 0.0 0.0 ...\n",
      "    EMISS                  (Time, south_north, west_east) float32 0.85 0.85 ...\n",
      "    TISO                   (Time) float32 0.0 0.0 0.0 0.0 0.0 0.0 0.0 0.0 ...\n",
      "    TLP_STRAT              (Time) float32 0.0 0.0 0.0 0.0 0.0 0.0 0.0 0.0 ...\n",
      "    ACLHF                  (Time, south_north, west_east) float32 0.0 0.0 ...\n",
      "    ITIMESTEP              (Time) int32 0 150 300 450 600 750 900 1050 1200 ...\n",
      "    SHDMIN                 (Time, south_north, west_east) float32 0.0 0.0 ...\n",
      "    DN                     (Time, bottom_top) float32 0.0 -0.0330024 ...\n",
      "    Q2                     (Time, south_north, west_east) float32 0.0 0.0 ...\n",
      "    TSK_FORCE_TEND         (Time) float32 0.0 0.0 0.0 0.0 0.0 0.0 0.0 0.0 ...\n",
      "    TSLB                   (Time, soil_layers_stag, south_north, west_east) float32 0.0 ...\n",
      "    QICE                   (Time, bottom_top, south_north, west_east) float32 0.0 ...\n",
      "    PBLH                   (Time, south_north, west_east) float32 0.0 0.0 ...\n",
      "    MAPFAC_VX              (Time, south_north_stag, west_east) float32 1.0 ...\n",
      "    MAPFAC_VY              (Time, south_north_stag, west_east) float32 1.0 ...\n",
      "    UST                    (Time, south_north, west_east) float32 0.0001 ...\n",
      "    RAINC                  (Time, south_north, west_east) float32 0.0 0.0 ...\n",
      "    IVGTYP                 (Time, south_north, west_east) int32 0 0 0 0 0 0 ...\n",
      "    SWNORM                 (Time, south_north, west_east) float32 0.0 0.0 ...\n",
      "    CF2                    (Time) float32 -1.55567 -1.55567 -1.55567 ...\n",
      "    CF3                    (Time) float32 0.532117 0.532117 0.532117 ...\n",
      "    CF1                    (Time) float32 2.02356 2.02356 2.02356 2.02356 ...\n",
      "    VAR_SSO                (Time, south_north, west_east) float32 0.0 0.0 ...\n",
      "    MAPFAC_V               (Time, south_north_stag, west_east) float32 0.0 ...\n",
      "    RAINSH                 (Time, south_north, west_east) float32 0.0 0.0 ...\n",
      "    LH                     (Time, south_north, west_east) float32 0.0 0.0 ...\n",
      "    ALBEDO                 (Time, south_north, west_east) float32 0.2 0.2 ...\n",
      "    SNOWH                  (Time, south_north, west_east) float32 0.0 0.0 ...\n",
      "    MAPFAC_M               (Time, south_north, west_east) float32 0.0 0.0 ...\n",
      "    HFX_FORCE              (Time) float32 0.0 0.0 0.0 0.0 0.0 0.0 0.0 0.0 ...\n",
      "    SNOWC                  (Time, south_north, west_east) float32 0.0 0.0 ...\n",
      "    T00                    (Time) float32 0.0 0.0 0.0 0.0 0.0 0.0 0.0 0.0 ...\n",
      "    MAPFAC_U               (Time, south_north, west_east_stag) float32 0.0 ...\n",
      "    SAVE_TOPO_FROM_REAL    (Time) int32 0 0 0 0 0 0 0 0 0 0 0 0 0 0 0 0 0 0 ...\n",
      "    E                      (Time, south_north, west_east) float32 0.0 0.0 ...\n",
      "    ACHFX                  (Time, south_north, west_east) float32 0.0 0.0 ...\n",
      "    SSTSK                  (Time, south_north, west_east) float32 0.0 0.0 ...\n",
      "    HGT                    (Time, south_north, west_east) float32 0.0 0.0 ...\n",
      "    T2                     (Time, south_north, west_east) float32 0.0 0.0 ...\n",
      "    SST_INPUT              (Time, south_north, west_east) float32 0.0 0.0 ...\n",
      "    U                      (Time, bottom_top, south_north, west_east_stag) float32 -11.314 ...\n",
      "    RESM                   (Time) float32 0.0 0.0 0.0 0.0 0.0 0.0 0.0 0.0 ...\n",
      "    CFN                    (Time) float32 1.49219 1.49219 1.49219 1.49219 ...\n",
      "    GRDFLX                 (Time, south_north, west_east) float32 0.0 0.0 ...\n",
      "    V10                    (Time, south_north, west_east) float32 0.0 0.0 ...\n",
      "    SNOW                   (Time, south_north, west_east) float32 0.0 0.0 ...\n",
      "    COSALPHA               (Time, south_north, west_east) float32 1.0 1.0 ...\n",
      "    MAPFAC_UY              (Time, south_north, west_east_stag) float32 1.0 ...\n",
      "Attributes:\n",
      "    ISWATER: 0\n",
      "    W_DAMPING: 0\n",
      "    AER_ANGEXP_OPT: 1\n",
      "    USE_THETA_M: 0\n",
      "    TRACER_PBLMIX: 1\n",
      "    PARENT_GRID_RATIO: 1\n",
      "    GRIDTYPE: C\n",
      "    DIFF_6TH_FACTOR: 0.12\n",
      "    SKEBS_ON: 0\n",
      "    TITLE:  OUTPUT FROM WRF V3.7.1 MODEL\n",
      "    SGFDDA_END_H: 0\n",
      "    MAP_PROJ: 0\n",
      "    ICLOUD_CU: 0\n",
      "    AER_OPT: 0\n",
      "    GRID_FDDA: 0\n",
      "    BOTTOM-TOP_PATCH_END_UNSTAG: 80\n",
      "    GRID_ID: 1\n",
      "    DAMP_OPT: 2\n",
      "    HYPSOMETRIC_OPT: 1\n",
      "    RA_SW_PHYSICS: 0\n",
      "    MMINLU: \n",
      "    KM_OPT: 2\n",
      "    NUM_LAND_CAT: 24\n",
      "    CEN_LON: 0.0\n",
      "    MAP_PROJ_CHAR: Cartesian\n",
      "    ICLOUD: 1\n",
      "    GRID_SFDDA: 0\n",
      "    AER_SSA_VAL: 1.4013e-45\n",
      "    J_PARENT_START: 1\n",
      "    AER_ASY_OPT: 1\n",
      "    AER_SSA_OPT: 1\n",
      "    ISOILWATER: 0\n",
      "    AER_AOD550_OPT: 1\n",
      "    GRAV_SETTLING: 0\n",
      "    SGFDDA_INTERVAL_M: 0\n",
      "    GFDDA_INTERVAL_M: 0\n",
      "    AER_ANGEXP_VAL: 1.3\n",
      "    JULDAY: 1\n",
      "    SF_URBAN_PHYSICS: 0\n",
      "    ISURBAN: 0\n",
      "    STAND_LON: 0.0\n",
      "    WEST-EAST_PATCH_START_UNSTAG: 1\n",
      "    MP_PHYSICS: 8\n",
      "    TKE_ADV_OPT: 1\n",
      "    BOTTOM-TOP_PATCH_START_UNSTAG: 1\n",
      "    RADT: 0.0\n",
      "    WEST-EAST_PATCH_END_UNSTAG: 201\n",
      "    GFDDA_END_H: 0\n",
      "    BOTTOM-TOP_GRID_DIMENSION: 81\n",
      "    SOUTH-NORTH_PATCH_END_UNSTAG: 2\n",
      "    BOTTOM-TOP_PATCH_START_STAG: 1\n",
      "    AER_AOD550_VAL: 0.12\n",
      "    SMOOTH_OPTION: 2\n",
      "    SIMULATION_START_DATE: 0001-01-01_00:00:00\n",
      "    OBS_NUDGE_OPT: 0\n",
      "    POLE_LON: 0.0\n",
      "    I_PARENT_START: 1\n",
      "    TRUELAT1: 0.0\n",
      "    SF_LAKE_PHYSICS: 0\n",
      "    TRUELAT2: 0.0\n",
      "    DAMPCOEF: 0.003\n",
      "    SPEC_BDY_FINAL_MU: 0\n",
      "    CEN_LAT: 0.0\n",
      "    WEST-EAST_GRID_DIMENSION: 202\n",
      "    SOUTH-NORTH_GRID_DIMENSION: 3\n",
      "    DIFF_6TH_OPT: 0\n",
      "    PREC_ACC_DT: 0.0\n",
      "    RA_LW_PHYSICS: 0\n",
      "    AER_TYPE: 1\n",
      "    MFSHCONV: 0\n",
      "    START_DATE: 0001-01-01_00:00:00\n",
      "    BLDT: 0.0\n",
      "    GMT: 0.0\n",
      "    BUCKET_J: -1.0\n",
      "    CU_PHYSICS: 0\n",
      "    SCALAR_ADV_OPT: 1\n",
      "    WEST-EAST_PATCH_START_STAG: 1\n",
      "    SF_SFCLAY_PHYSICS: 0\n",
      "    SCALAR_PBLMIX: 0\n",
      "    SOUTH-NORTH_PATCH_START_STAG: 1\n",
      "    YSU_TOPDOWN_PBLMIX: 0\n",
      "    BL_PBL_PHYSICS: 0\n",
      "    BUCKET_MM: -1.0\n",
      "    ISFFLX: 1\n",
      "    DY: 250.0\n",
      "    DT: 2.0\n",
      "    FEEDBACK: 1\n",
      "    CUDT: 0.0\n",
      "    ISFTCFLX: 0\n",
      "    SURFACE_INPUT_SOURCE: 1\n",
      "    DFI_OPT: 0\n",
      "    MOIST_ADV_OPT: 1\n",
      "    PARENT_ID: 0\n",
      "    SF_OCEAN_PHYSICS: 0\n",
      "    ISLAKE: 0\n",
      "    KVDIF: 1.0\n",
      "    SWRAD_SCAT: 1.0\n",
      "    SOUTH-NORTH_PATCH_START_UNSTAG: 1\n",
      "    MOAD_CEN_LAT: 0.0\n",
      "    ISICE: 0\n",
      "    SOUTH-NORTH_PATCH_END_STAG: 3\n",
      "    SIMULATION_INITIALIZATION_TYPE: IDEALIZED DATA\n",
      "    WEST-EAST_PATCH_END_STAG: 202\n",
      "    AER_ASY_VAL: 1.4013e-45\n",
      "    SST_UPDATE: 0\n",
      "    SWINT_OPT: 0\n",
      "    KHDIF: 300.0\n",
      "    USE_Q_DIABATIC: 0\n",
      "    DIFF_OPT: 2\n",
      "    SHCU_PHYSICS: 0\n",
      "    ISHALLOW: 0\n",
      "    POLE_LAT: 0.0\n",
      "    JULYR: 0\n",
      "    DX: 250.0\n",
      "    BOTTOM-TOP_PATCH_END_STAG: 81\n",
      "    SF_SURFACE_PHYSICS: 0\n"
     ]
    }
   ],
   "source": [
    "print(dataset)"
   ]
  },
  {
   "cell_type": "markdown",
   "metadata": {},
   "source": [
    "We can look into more detail at a given field, too, to see what metadata is attached to it. Note that the default container that `xray` provides, the **Dataset**, implements the standard dictionary interface, so it's easy to grab data fields."
   ]
  },
  {
   "cell_type": "code",
   "execution_count": 3,
   "metadata": {
    "collapsed": false
   },
   "outputs": [
    {
     "name": "stdout",
     "output_type": "stream",
     "text": [
      "<xarray.DataArray 'RAINNC' (Time: 25, south_north: 2, west_east: 201)>\n",
      "array([[[ 0.        ,  0.        ,  0.        , ...,  0.        ,\n",
      "          0.        ,  0.        ],\n",
      "        [ 0.        ,  0.        ,  0.        , ...,  0.        ,\n",
      "          0.        ,  0.        ]],\n",
      "\n",
      "       [[ 0.        ,  0.        ,  0.        , ...,  0.        ,\n",
      "          0.        ,  0.        ],\n",
      "        [ 0.        ,  0.        ,  0.        , ...,  0.        ,\n",
      "          0.        ,  0.        ]],\n",
      "\n",
      "       [[ 0.        ,  0.        ,  0.        , ...,  0.        ,\n",
      "          0.        ,  0.        ],\n",
      "        [ 0.        ,  0.        ,  0.        , ...,  0.        ,\n",
      "          0.        ,  0.        ]],\n",
      "\n",
      "       ..., \n",
      "       [[ 0.07409398,  0.08390673,  0.10000595, ...,  0.        ,\n",
      "          0.        ,  0.        ],\n",
      "        [ 0.07347213,  0.08309811,  0.09888596, ...,  0.        ,\n",
      "          0.        ,  0.        ]],\n",
      "\n",
      "       [[ 0.07409398,  0.08390673,  0.10000595, ...,  0.        ,\n",
      "          0.        ,  0.        ],\n",
      "        [ 0.07347213,  0.08309811,  0.09888596, ...,  0.        ,\n",
      "          0.        ,  0.        ]],\n",
      "\n",
      "       [[ 0.07409398,  0.08390673,  0.10000595, ...,  0.        ,\n",
      "          0.        ,  0.        ],\n",
      "        [ 0.07347213,  0.08309811,  0.09888596, ...,  0.        ,\n",
      "          0.        ,  0.        ]]], dtype=float32)\n",
      "Coordinates:\n",
      "    XLAT         (Time, south_north, west_east) float32 0.0 0.0 0.0 0.0 0.0 ...\n",
      "    XTIME        (Time) datetime64[ns] 2001-01-01 2001-01-01T00:05:00 ...\n",
      "    XLONG        (Time, south_north, west_east) float32 0.0 0.0 0.0 0.0 0.0 ...\n",
      "  * Time         (Time) int64 0 1 2 3 4 5 6 7 8 9 10 11 12 13 14 15 16 17 18 ...\n",
      "  * south_north  (south_north) int64 0 1\n",
      "  * west_east    (west_east) int64 0 1 2 3 4 5 6 7 8 9 10 11 12 13 14 15 16 ...\n",
      "Attributes:\n",
      "    description: ACCUMULATED TOTAL GRID SCALE PRECIPITATION\n",
      "    MemoryOrder: XY \n",
      "    stagger: \n",
      "    FieldType: 104\n",
      "    units: mm\n"
     ]
    }
   ],
   "source": [
    "rain = dataset['RAINNC']\n",
    "print(rain)"
   ]
  },
  {
   "cell_type": "markdown",
   "metadata": {},
   "source": [
    "We can make a simple plot of surface temperature:"
   ]
  },
  {
   "cell_type": "code",
   "execution_count": 4,
   "metadata": {
    "collapsed": false
   },
   "outputs": [
    {
     "data": {
      "text/plain": [
       "[<matplotlib.lines.Line2D at 0x7f54bb80d450>]"
      ]
     },
     "execution_count": 4,
     "metadata": {},
     "output_type": "execute_result"
    },
    {
     "data": {
      "image/png": "[encoded data removed]",
      "text/plain": [
       "<matplotlib.figure.Figure at 0x7f54d7a709d0>"
      ]
     },
     "metadata": {},
     "output_type": "display_data"
    }
   ],
   "source": [
    "fig=plt.figure()\n",
    "ax = fig.add_subplot(111)\n",
    "ax.plot(dataset['U'].values[0,0,0,:])\n"
   ]
  },
  {
   "cell_type": "markdown",
   "metadata": {},
   "source": [
    "To illustrate simple data manipulation, let's compute total rain accumulation.  We will sum the amount for each model column in the `x` and `y` dimension, and plot against `t`. This will give us an idea of the evolution of the convection in the domain. \n",
    "\n",
    "Rather than use giant loops over all the model dimensions, we'll use the convenience tools exposed by `xarray`. See [here](http://xarray.pydata.org/en/stable/data-structures.html) for more details."
   ]
  },
  {
   "cell_type": "code",
   "execution_count": 5,
   "metadata": {
    "collapsed": false
   },
   "outputs": [],
   "source": [
    "total_rain = (rain.load().mean(dim=['south_north'], keep_attrs=True).sum(dim=['west_east'], keep_attrs=True))"
   ]
  },
  {
   "cell_type": "markdown",
   "metadata": {},
   "source": [
    "Plotting simple data like this is very straightforward, but as a reminder:"
   ]
  },
  {
   "cell_type": "code",
   "execution_count": 6,
   "metadata": {
    "collapsed": false
   },
   "outputs": [
    {
     "data": {
      "text/plain": [
       "<matplotlib.text.Text at 0x7f54d50c4110>"
      ]
     },
     "execution_count": 6,
     "metadata": {},
     "output_type": "execute_result"
    },
    {
     "data": {
      "image/png": "[encoded data removed]",
      "text/plain": [
       "<matplotlib.figure.Figure at 0x7f54bb7e5810>"
      ]
     },
     "metadata": {},
     "output_type": "display_data"
    }
   ],
   "source": [
    "fig = plt.figure()\n",
    "ax = fig.add_subplot(111)\n",
    "\n",
    "lines = ax.plot(total_rain, color='k', lw=2)\n",
    "ax.set_xlabel('west_east')\n",
    "ax.set_ylabel(\"Total rain ({})\".format(total_rain.units))"
   ]
  },
  {
   "cell_type": "markdown",
   "metadata": {
    "collapsed": false
   },
   "source": [
    "Let's plot a cross section of potential temperature.  WRF stores some variables in its own format, so we must convert them to physical values.  Here are temperature and pressure."
   ]
  },
  {
   "cell_type": "code",
   "execution_count": 7,
   "metadata": {
    "collapsed": true
   },
   "outputs": [],
   "source": [
    "pres = (dataset['P'] + dataset['PB']) * 0.01\n",
    "pres.attrs['long_name'] = 'Total pressure'\n",
    "pres.attrs['units'] = 'mb'\n",
    "\n",
    "temp=dataset['T'] + 300.\n",
    "temp.attrs['long_name'] = 'Potential Temperature'\n",
    "temp.attrs['units'] = 'K'"
   ]
  },
  {
   "cell_type": "code",
   "execution_count": 8,
   "metadata": {
    "collapsed": false
   },
   "outputs": [],
   "source": [
    "itime=5\n",
    "temp_slice = (temp.load()\n",
    "                       .isel(south_north=0,Time=itime,bottom_top=slice(0,40))\n",
    "                       .squeeze())"
   ]
  },
  {
   "cell_type": "code",
   "execution_count": 9,
   "metadata": {
    "collapsed": false
   },
   "outputs": [
    {
     "data": {
      "image/png": "[encoded data removed]",
      "text/plain": [
       "<matplotlib.figure.Figure at 0x7f54d504ca10>"
      ]
     },
     "metadata": {},
     "output_type": "display_data"
    }
   ],
   "source": [
    "from matplotlib.colors import BoundaryNorm\n",
    "\n",
    "levels = 295.+.5*np.arange(100)\n",
    "cmap = plt.get_cmap(\"viridis\")\n",
    "\n",
    "fig = plt.figure(figsize=(5., 4.))\n",
    "ax = fig.add_subplot(111)\n",
    "ax.set_xlabel('west_east')\n",
    "ax.set_ylabel('bottom_top')\n",
    "ax.set_title(temp.attrs['long_name']+' Time ='+str(itime))\n",
    "\n",
    "cf = ax.contourf(temp_slice, levels=levels,\n",
    "                 cmap=cmap)\n",
    "cb = plt.colorbar(cf, ax=ax, orientation='horizontal')"
   ]
  },
  {
   "cell_type": "markdown",
   "metadata": {},
   "source": [
    "---\n",
    "\n",
    "That's the basic example. Suppose, now, we wanted to visualize contours of liquid water content in a 2D slice of the storm? That's easy to do using the aggregation features from `xray` and the same basic plotting interface."
   ]
  },
  {
   "cell_type": "code",
   "execution_count": 10,
   "metadata": {
    "collapsed": false
   },
   "outputs": [
    {
     "data": {
      "image/png": "[encoded data removed]",
      "text/plain": [
       "<matplotlib.figure.Figure at 0x7f54af504990>"
      ]
     },
     "metadata": {},
     "output_type": "display_data"
    }
   ],
   "source": [
    "from matplotlib.colors import BoundaryNorm\n",
    "\n",
    "qliquid=dataset['QRAIN']+dataset['QCLOUD']\n",
    "qliquid.attrs['long_name'] = \"Total liquid water mixing ratio\"\n",
    "qliquid.attrs['units'] = \"kg/kg\"\n",
    "\n",
    "itime=5\n",
    "qliquid_slice = (qliquid.load()\n",
    "                       .isel(south_north=0,Time=itime,bottom_top=slice(0,40))\n",
    "                       .squeeze())\n",
    "\n",
    "levels = [0, 1e-5, 2e-5, 5e-5, 1e-4, 2e-4, 5e-4, 1e-3, 2e-3, 5e-3,1e-2]\n",
    "cmap = plt.get_cmap(\"Oranges\")\n",
    "norm = BoundaryNorm(levels, ncolors=cmap.N, clip=True)\n",
    "\n",
    "fig = plt.figure(figsize=(5., 4.))\n",
    "ax = fig.add_subplot(111)\n",
    "\n",
    "cf = ax.contourf(qliquid_slice, \n",
    "                 levels=levels, cmap=cmap, norm=norm)\n",
    "ax.set_xlabel('west_east')\n",
    "ax.set_ylabel('bottom_top')\n",
    "ax.set_title(qliquid.attrs['long_name']+' Time ='+str(itime))\n",
    "\n",
    "cb = plt.colorbar(cf, ax=ax, orientation='horizontal', format=\"%1.0e\")"
   ]
  },
  {
   "cell_type": "code",
   "execution_count": 11,
   "metadata": {
    "collapsed": false
   },
   "outputs": [],
   "source": [
    "from ipywidgets import interact\n",
    "\n",
    "def browse_images(qliquid):\n",
    "    t = 25\n",
    "    def plot_qvapor(i):\n",
    "        qliquid_slice = (qliquid.load()\n",
    "                           .isel(south_north=0,Time=i,bottom_top=slice(0,40))\n",
    "                           .squeeze())\n",
    "\n",
    "        levels = [0, 1e-5, 2e-5, 5e-5, 1e-4, 2e-4, 5e-4, 1e-3, 2e-3, 5e-3,1e-2]\n",
    "        cmap = plt.get_cmap(\"Oranges\")\n",
    "        norm = BoundaryNorm(levels, ncolors=cmap.N, clip=True)\n",
    "\n",
    "        fig = plt.figure(figsize=(5., 4.))\n",
    "        ax = fig.add_subplot(111)\n",
    "\n",
    "        cf = ax.contourf(qliquid_slice, \n",
    "                         levels=levels, cmap=cmap, norm=norm)\n",
    "        ax.set_xlabel('west_east')\n",
    "        ax.set_ylabel('bottom_top')\n",
    "        ax.set_title(qliquid.attrs['long_name']+' Time ='+str(i))\n",
    "\n",
    "        cb = plt.colorbar(cf, ax=ax, orientation='horizontal', format=\"%1.0e\")\n",
    "    \n",
    "    interact(plot_qvapor, i=(0,t-1))\n",
    "    "
   ]
  },
  {
   "cell_type": "code",
   "execution_count": 12,
   "metadata": {
    "collapsed": false
   },
   "outputs": [
    {
     "data": {
      "image/png": "[encoded data removed]",
      "text/plain": [
       "<matplotlib.figure.Figure at 0x7f54aeec1d50>"
      ]
     },
     "metadata": {},
     "output_type": "display_data"
    }
   ],
   "source": [
    "browse_images(qliquid)"
   ]
  },
  {
   "cell_type": "markdown",
   "metadata": {},
   "source": [
    "As an exercise, add one for vertical velocity:"
   ]
  },
  {
   "cell_type": "code",
   "execution_count": null,
   "metadata": {
    "collapsed": true
   },
   "outputs": [],
   "source": []
  }
 ],
 "metadata": {
  "kernelspec": {
   "display_name": "Python 2",
   "language": "python",
   "name": "python2"
  },
  "language_info": {
   "codemirror_mode": {
    "name": "ipython",
    "version": 2
   },
   "file_extension": ".py",
   "mimetype": "text/x-python",
   "name": "python",
   "nbconvert_exporter": "python",
   "pygments_lexer": "ipython2",
   "version": "2.7.11"
  }
 },
 "nbformat": 4,
 "nbformat_minor": 0
}
